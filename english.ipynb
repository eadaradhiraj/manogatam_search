{
 "cells": [
  {
   "cell_type": "code",
   "execution_count": 1,
   "metadata": {},
   "outputs": [],
   "source": [
    "from bs4 import BeautifulSoup as bsoup\n",
    "import requests\n",
    "import re\n",
    "import docx2txt\n",
    "from io import BytesIO"
   ]
  },
  {
   "cell_type": "code",
   "execution_count": 2,
   "metadata": {},
   "outputs": [],
   "source": [
    "def get_html(url):\n",
    "    headers = {\n",
    "        'User-Agent': 'Mozilla/5.0 (Macintosh; Intel Mac OS X 10_10_1) AppleWebKit/537.36 (KHTML, like Gecko) Chrome/39.0.2171.95 Safari/537.36'\n",
    "    }\n",
    "    r = requests.get(url, headers=headers)\n",
    "    return r.content\n",
    "def gsoup(url):    \n",
    "    return bsoup(get_html(url), 'html.parser')"
   ]
  },
  {
   "cell_type": "code",
   "execution_count": 3,
   "metadata": {},
   "outputs": [
    {
     "name": "stdout",
     "output_type": "stream",
     "text": [
      " Just imagine… a person writing to the Prime Minister of the country, but seeking nothing for one’s own self… it is a reflection on the lofty collective demeanour of crores of people in the country\n",
      "https://www.pmindia.gov.in/en/news_updates/pms-address-in-mann-ki-baat-2-0programme-on-all-india-radio/\n",
      "Who would have imagined that a small campaign “selfie with daughter”starting from a small village in Haryana would spread not only throughout the country but also across other countries as well\n",
      "https://www.pmindia.gov.in/en/news_updates/pms-address-in-50th-episode-of-mann-ki-baat/\n"
     ]
    }
   ],
   "source": [
    "pages_url ='https://www.pmindia.gov.in/wp-admin/admin-ajax.php?action=demoMannKiBaat&page_no={no}&language=en&tag=mann-ki-baat'\n",
    "for i in range(1,31):\n",
    "    pages_soup1 = gsoup(pages_url.format(no=i))\n",
    "    for add in pages_soup1.find_all(\"a\", href = re.compile(r'pms-address-in-')):\n",
    "        add_href = add[\"href\"]\n",
    "        add_soup = gsoup(add_href)\n",
    "        for para in (add_soup.find_all(\"p\")):\n",
    "            para_txt = para.text\n",
    "            for sent_txt in para_txt.split(\".\"):\n",
    "                # if \"years\" in sent_txt and \"since\" in sent_txt:\n",
    "                extensionsToCheck = [\"imagine\", \"self\"]\n",
    "                if all(ext in sent_txt for ext in extensionsToCheck):\n",
    "                    print(sent_txt)\n",
    "                    print(add_href)"
   ]
  },
  {
   "cell_type": "code",
   "execution_count": null,
   "metadata": {},
   "outputs": [],
   "source": []
  }
 ],
 "metadata": {
  "kernelspec": {
   "display_name": "pers_env",
   "language": "python",
   "name": "pers_env"
  },
  "language_info": {
   "codemirror_mode": {
    "name": "ipython",
    "version": 3
   },
   "file_extension": ".py",
   "mimetype": "text/x-python",
   "name": "python",
   "nbconvert_exporter": "python",
   "pygments_lexer": "ipython3",
   "version": "3.10.0"
  }
 },
 "nbformat": 4,
 "nbformat_minor": 4
}
